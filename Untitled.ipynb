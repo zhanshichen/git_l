{
 "cells": [
  {
   "cell_type": "code",
   "execution_count": 3,
   "metadata": {},
   "outputs": [
    {
     "data": {
      "text/plain": [
       "<?xml version=\"1.0\" encoding=\"utf-8\"?>\n",
       "<Catalog>\n",
       "<Book id=\"bk101\">\n",
       "<Author>Garghentini, Davide</Author>\n",
       "<Title>XML Developer's Guide</Title>\n",
       "<Genre>Computer</Genre>\n",
       "<Price>44.95</Price>\n",
       "<PublishDate>2000-10-01</PublishDate>\n",
       "<Description>An in-depth look at creating applications   \n",
       "      with XML.</Description>\n",
       "</Book>\n",
       "<Book id=\"bk102\">\n",
       "<Author>Garcia, Debra</Author>\n",
       "<Title>Midnight Rain</Title>\n",
       "<Genre>Fantasy</Genre>\n",
       "<Price>5.95</Price>\n",
       "<PublishDate>2000-12-16</PublishDate>\n",
       "<Description>A former architect battles corporate zombies,   \n",
       "      an evil sorceress, and her own childhood to become queen   \n",
       "      of the world.</Description>\n",
       "</Book>\n",
       "</Catalog>"
      ]
     },
     "execution_count": 3,
     "metadata": {},
     "output_type": "execute_result"
    }
   ],
   "source": [
    "from bs4 import BeautifulSoup as bs\n",
    "soup = bs(open(\"book.xml\"),\"xml\")\n",
    "soup"
   ]
  },
  {
   "cell_type": "code",
   "execution_count": 40,
   "metadata": {},
   "outputs": [
    {
     "data": {
      "text/plain": [
       "<Author>Garghentini, Davide</Author>"
      ]
     },
     "execution_count": 40,
     "metadata": {},
     "output_type": "execute_result"
    }
   ],
   "source": [
    "tag = soup.Book\n",
    "tag.Author"
   ]
  },
  {
   "cell_type": "code",
   "execution_count": 19,
   "metadata": {},
   "outputs": [
    {
     "data": {
      "text/plain": [
       "'bk101'"
      ]
     },
     "execution_count": 19,
     "metadata": {},
     "output_type": "execute_result"
    }
   ],
   "source": [
    "tag['id']"
   ]
  },
  {
   "cell_type": "code",
   "execution_count": 60,
   "metadata": {},
   "outputs": [
    {
     "name": "stdout",
     "output_type": "stream",
     "text": [
      "is 1\n"
     ]
    }
   ],
   "source": [
    "x = tag['id'] + ' ' + tag['id']\n",
    "type(x)\n",
    "a = 1\n",
    "if not a == 1:\n",
    "    print(\"not 1\")\n",
    "else:\n",
    "    print(\"is 1\")"
   ]
  },
  {
   "cell_type": "code",
   "execution_count": 59,
   "metadata": {},
   "outputs": [
    {
     "name": "stdout",
     "output_type": "stream",
     "text": [
      "<class 'str'>\n",
      "is book\n"
     ]
    }
   ],
   "source": [
    "# tag2 = soup.Author.next_sibling.next_sibling\n",
    "a = soup.Book.next_sibling\n",
    "tag2 = a.next_sibling\n",
    "print(type(tag2.name))\n",
    "if not tag2.name == 'Book':\n",
    "    print(\"no Book\")\n",
    "else:\n",
    "    print(\"is book\")\n",
    "\n",
    "\n",
    "\n"
   ]
  },
  {
   "cell_type": "code",
   "execution_count": 4,
   "metadata": {},
   "outputs": [
    {
     "data": {
      "text/plain": [
       "'02525868v'"
      ]
     },
     "execution_count": 4,
     "metadata": {},
     "output_type": "execute_result"
    }
   ],
   "source": [
    "a = 'cmn-10-02525868-v'\n",
    "#eng-30-\n",
    "b = a.split('-')\n",
    "c = b[2]  + b[3]\n",
    "c"
   ]
  },
  {
   "cell_type": "code",
   "execution_count": 3,
   "metadata": {},
   "outputs": [
    {
     "name": "stdout",
     "output_type": "stream",
     "text": [
      "id\n",
      "id1\n"
     ]
    }
   ],
   "source": [
    "x = {}\n",
    "x['id'] = {}\n",
    "x['id']['name+'] = []\n",
    "x['id']['name+'].append(\"id1\")\n",
    "x['id']['name+'].append(\"id2\")\n",
    "x['id1'] = 1\n",
    "a = x['id']['name+'][0]\n",
    "b = 1\n",
    "for i in x:\n",
    "    print (i)\n",
    "#     a = i.replace(\"1\",\"\")\n",
    "#     print(a)\n",
    "\n"
   ]
  },
  {
   "cell_type": "code",
   "execution_count": 3,
   "metadata": {},
   "outputs": [
    {
     "data": {
      "text/plain": [
       "Synset('chemical_element.n.01')"
      ]
     },
     "execution_count": 3,
     "metadata": {},
     "output_type": "execute_result"
    }
   ],
   "source": [
    "from nltk.corpus import wordnet as wn\n",
    "# try:\n",
    "#     syn = wn.of2ss('14869976n')  #说明这个id没有出现在英文单词中  或者说没有对应的英文单词\n",
    "# except:\n",
    "#     print(\"error\")\n",
    "#     print(syn)\n",
    "# else:\n",
    "#     print(\"no error\")\n",
    "ss = wn.synset('silicon.n.01')\n",
    "a = ss.hypernyms()\n",
    "b = a[0]\n",
    "b\n",
    "    # ss = wn.synset('dog.n.01')\n",
    "# syn\n",
    "# ss = syn\n",
    "# # # ss\n",
    "# offset = []\n",
    "# # a = ss.hypernyms() #上位词\n",
    "# # for name in a:\n",
    "# #     ii = str(name.offset()).zfill(8) + '-' + name.pos()\n",
    "# #     offset.append(ii)\n",
    "# # offset\n",
    "# a = ss.hyponyms()  #下位词  \n",
    "# if a:\n",
    "#     print(\"yes\")\n",
    "# else:\n",
    "#     print(\"no\")\n",
    "# offset = str(ss.offset()).zfill(8) + '-' + ss.pos()\n",
    "# offset\n",
    "\n",
    "# >>> dog = wn.synset('dog.n.01')\n",
    "# >>> dog.hypernyms()\n",
    "# [Synset('canine.n.02'), Synset('domestic_animal.n.01')]\n",
    "# >>> dog.hyponyms()  # doctest: +ELLIPSIS\n",
    "# [Synset('basenji.n.01'), Synset('corgi.n.01'), Synset('cur.n.01'), Synset('dalmatian.n.02'), ...]\n",
    "# >>> dog.member_holonyms()\n",
    "# [Synset('canis.n.01'), Synset('pack.n.06')]\n",
    "# >>> dog.root_hypernyms()\n",
    "# [Synset('entity.n.01')]\n",
    "# >>> wn.synset('dog.n.01').lowest_common_hypernyms(wn.synset('cat.n.01'))\n",
    "# [Synset('carnivore.n.01')]"
   ]
  },
  {
   "cell_type": "code",
   "execution_count": 10,
   "metadata": {},
   "outputs": [
    {
     "data": {
      "text/plain": [
       "2"
      ]
     },
     "execution_count": 10,
     "metadata": {},
     "output_type": "execute_result"
    }
   ],
   "source": [
    "a = {}\n",
    "a['id'] = []\n",
    "a['id'].append(\"name\")\n",
    "a['id'].append('1')\n",
    "# a['id'][1].append(\"1\")\n",
    "len(a['id'])\n",
    "# a"
   ]
  },
  {
   "cell_type": "code",
   "execution_count": 14,
   "metadata": {},
   "outputs": [
    {
     "name": "stdout",
     "output_type": "stream",
     "text": [
      "3\n",
      "2\n",
      "1\n",
      "yes\n"
     ]
    }
   ],
   "source": [
    "a = [\"1\",\"2\",\"3\"]\n",
    "for x in a[::-1]:\n",
    "    print(x)\n",
    "if 3 > 2:\n",
    "    print(\"yes\")"
   ]
  },
  {
   "cell_type": "code",
   "execution_count": 10,
   "metadata": {},
   "outputs": [
    {
     "data": {
      "text/plain": [
       "'我的1'"
      ]
     },
     "execution_count": 10,
     "metadata": {},
     "output_type": "execute_result"
    }
   ],
   "source": [
    "# import string\n",
    "a = \"我的+1\"\n",
    "# a.translate(str.maketrans('+',''))\n",
    "a = a.replace(\"+\",\"\")\n",
    "a"
   ]
  },
  {
   "cell_type": "code",
   "execution_count": 10,
   "metadata": {},
   "outputs": [
    {
     "name": "stdout",
     "output_type": "stream",
     "text": [
      "你的\n",
      "我的\n"
     ]
    }
   ],
   "source": [
    "a = []\n",
    "a.append('我的')\n",
    "a.append('你的')\n",
    "for i in reversed(a):\n",
    "    print(i)\n"
   ]
  },
  {
   "cell_type": "code",
   "execution_count": 2,
   "metadata": {},
   "outputs": [
    {
     "name": "stdout",
     "output_type": "stream",
     "text": [
      "no\n"
     ]
    }
   ],
   "source": [
    "a = ['我的','你的']\n",
    "\n",
    "if '我' in a:\n",
    "    print(\"yes\")\n",
    "else:\n",
    "    print(\"no\")\n",
    "    \n",
    "    \n"
   ]
  },
  {
   "cell_type": "code",
   "execution_count": 2,
   "metadata": {},
   "outputs": [
    {
     "data": {
      "text/html": [
       "<div>\n",
       "<style scoped>\n",
       "    .dataframe tbody tr th:only-of-type {\n",
       "        vertical-align: middle;\n",
       "    }\n",
       "\n",
       "    .dataframe tbody tr th {\n",
       "        vertical-align: top;\n",
       "    }\n",
       "\n",
       "    .dataframe thead th {\n",
       "        text-align: right;\n",
       "    }\n",
       "</style>\n",
       "<table border=\"1\" class=\"dataframe\">\n",
       "  <thead>\n",
       "    <tr style=\"text-align: right;\">\n",
       "      <th></th>\n",
       "      <th>max_speed</th>\n",
       "      <th>shield</th>\n",
       "    </tr>\n",
       "  </thead>\n",
       "  <tbody>\n",
       "    <tr>\n",
       "      <th>cobra</th>\n",
       "      <td>1</td>\n",
       "      <td>2</td>\n",
       "    </tr>\n",
       "    <tr>\n",
       "      <th>viper</th>\n",
       "      <td>4</td>\n",
       "      <td>5</td>\n",
       "    </tr>\n",
       "    <tr>\n",
       "      <th>sidewinder</th>\n",
       "      <td>7</td>\n",
       "      <td>8</td>\n",
       "    </tr>\n",
       "  </tbody>\n",
       "</table>\n",
       "</div>"
      ],
      "text/plain": [
       "            max_speed  shield\n",
       "cobra               1       2\n",
       "viper               4       5\n",
       "sidewinder          7       8"
      ]
     },
     "execution_count": 2,
     "metadata": {},
     "output_type": "execute_result"
    }
   ],
   "source": [
    "import pandas as pd\n",
    "df = pd.DataFrame([[1, 2], [4, 5], [7, 8]],index=['cobra', 'viper', 'sidewinder'],columns=['max_speed', 'shield'])\n",
    "df"
   ]
  },
  {
   "cell_type": "code",
   "execution_count": 7,
   "metadata": {},
   "outputs": [
    {
     "data": {
      "text/html": [
       "<div>\n",
       "<style scoped>\n",
       "    .dataframe tbody tr th:only-of-type {\n",
       "        vertical-align: middle;\n",
       "    }\n",
       "\n",
       "    .dataframe tbody tr th {\n",
       "        vertical-align: top;\n",
       "    }\n",
       "\n",
       "    .dataframe thead th {\n",
       "        text-align: right;\n",
       "    }\n",
       "</style>\n",
       "<table border=\"1\" class=\"dataframe\">\n",
       "  <thead>\n",
       "    <tr style=\"text-align: right;\">\n",
       "      <th></th>\n",
       "      <th>max_speed</th>\n",
       "      <th>shield</th>\n",
       "    </tr>\n",
       "  </thead>\n",
       "  <tbody>\n",
       "    <tr>\n",
       "      <th>viper</th>\n",
       "      <td>4</td>\n",
       "      <td>5</td>\n",
       "    </tr>\n",
       "    <tr>\n",
       "      <th>cobra</th>\n",
       "      <td>1</td>\n",
       "      <td>2</td>\n",
       "    </tr>\n",
       "  </tbody>\n",
       "</table>\n",
       "</div>"
      ],
      "text/plain": [
       "       max_speed  shield\n",
       "viper          4       5\n",
       "cobra          1       2"
      ]
     },
     "execution_count": 7,
     "metadata": {},
     "output_type": "execute_result"
    }
   ],
   "source": [
    "df.loc[['viper','cobra']]"
   ]
  },
  {
   "cell_type": "code",
   "execution_count": 13,
   "metadata": {},
   "outputs": [
    {
     "data": {
      "text/plain": [
       "{1: {2: [1]}}"
      ]
     },
     "execution_count": 13,
     "metadata": {},
     "output_type": "execute_result"
    }
   ],
   "source": [
    "a = {}\n",
    "a[1] = {}\n",
    "a[1][2] = []\n",
    "a[1][2].append(1)\n",
    "a[1][2].append(2)\n",
    "# a[1][2].pop(2)\n",
    "a[1][2].remove(2)\n",
    "a"
   ]
  },
  {
   "cell_type": "code",
   "execution_count": null,
   "metadata": {},
   "outputs": [],
   "source": []
  }
 ],
 "metadata": {
  "kernelspec": {
   "display_name": "Python 3",
   "language": "python",
   "name": "python3"
  },
  "language_info": {
   "codemirror_mode": {
    "name": "ipython",
    "version": 3
   },
   "file_extension": ".py",
   "mimetype": "text/x-python",
   "name": "python",
   "nbconvert_exporter": "python",
   "pygments_lexer": "ipython3",
   "version": "3.7.4"
  }
 },
 "nbformat": 4,
 "nbformat_minor": 2
}
