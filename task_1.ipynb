{
 "cells": [
  {
   "cell_type": "code",
   "execution_count": 1,
   "metadata": {},
   "outputs": [],
   "source": [
    "from bs4 import BeautifulSoup as bs\n",
    "soup = bs(open(\"wn-cmn-lmf.xml\"),\"xml\")\n"
   ]
  },
  {
   "cell_type": "code",
   "execution_count": null,
   "metadata": {},
   "outputs": [],
   "source": [
    "pa_child = {}\n",
    "#Synset\n",
    "tag = soup.LexicalEntry\n",
    "#  <LexicalEntry id ='w201724'>\n",
    "#       <Lemma writtenForm='符咒' partOfSpeech='n'/>\n",
    "#       <Sense id='w201724_07159791-n' synset='cmn-10-07159791-n'/>\n",
    "#       <Sense id='w201724_03603958-n' synset='cmn-10-03603958-n'/>\n",
    "#    </LexicalEntry>\n",
    "with open(\"child.txt\",\"w\") as f:\n",
    "    while tag.name is not \"Synset\":\n",
    "        tag_id = tag.Sense['synset']\n",
    "        tag_name = tag.Lemma['writtenForm']  \n",
    "        part = tag.Lemma['partOfSpeech']  #partofspeech\n",
    "        i = 1\n",
    "        pa_child[tag_id] = {}\n",
    "        tag_name\n",
    "        pa_child[tag_id][tag_name] = []\n",
    "        while tag.Sense.next_sibling.next_sibling:\n",
    "            \n",
    "        pa_child[tag_id] = {}\n",
    "        pa_child[tag_id][tag_name] = []\n",
    "        "
   ]
  },
  {
   "cell_type": "code",
   "execution_count": 2,
   "metadata": {},
   "outputs": [],
   "source": [
    "\n",
    "# index = pd.date_range('1/1/2000', periods=8)\n",
    "# index"
   ]
  },
  {
   "cell_type": "code",
   "execution_count": 11,
   "metadata": {},
   "outputs": [
    {
     "data": {
      "text/html": [
       "<div>\n",
       "<style scoped>\n",
       "    .dataframe tbody tr th:only-of-type {\n",
       "        vertical-align: middle;\n",
       "    }\n",
       "\n",
       "    .dataframe tbody tr th {\n",
       "        vertical-align: top;\n",
       "    }\n",
       "\n",
       "    .dataframe thead th {\n",
       "        text-align: right;\n",
       "    }\n",
       "</style>\n",
       "<table border=\"1\" class=\"dataframe\">\n",
       "  <thead>\n",
       "    <tr style=\"text-align: right;\">\n",
       "      <th></th>\n",
       "      <th>a</th>\n",
       "      <th>b</th>\n",
       "      <th>c</th>\n",
       "      <th>d</th>\n",
       "    </tr>\n",
       "  </thead>\n",
       "  <tbody>\n",
       "    <tr>\n",
       "      <td>0</td>\n",
       "      <td>0</td>\n",
       "      <td>0.914287</td>\n",
       "      <td>1</td>\n",
       "      <td>apple</td>\n",
       "    </tr>\n",
       "    <tr>\n",
       "      <td>1</td>\n",
       "      <td>1</td>\n",
       "      <td>0.947990</td>\n",
       "      <td>2</td>\n",
       "      <td>banana</td>\n",
       "    </tr>\n",
       "    <tr>\n",
       "      <td>2</td>\n",
       "      <td>2</td>\n",
       "      <td>0.612947</td>\n",
       "      <td>3</td>\n",
       "      <td>carrot</td>\n",
       "    </tr>\n",
       "    <tr>\n",
       "      <td>3</td>\n",
       "      <td>3</td>\n",
       "      <td>0.283029</td>\n",
       "      <td>4</td>\n",
       "      <td>apple</td>\n",
       "    </tr>\n",
       "    <tr>\n",
       "      <td>4</td>\n",
       "      <td>4</td>\n",
       "      <td>0.006715</td>\n",
       "      <td>1</td>\n",
       "      <td>banana</td>\n",
       "    </tr>\n",
       "  </tbody>\n",
       "</table>\n",
       "</div>"
      ],
      "text/plain": [
       "   a         b  c       d\n",
       "0  0  0.914287  1   apple\n",
       "1  1  0.947990  2  banana\n",
       "2  2  0.612947  3  carrot\n",
       "3  3  0.283029  4   apple\n",
       "4  4  0.006715  1  banana"
      ]
     },
     "execution_count": 11,
     "metadata": {},
     "output_type": "execute_result"
    }
   ],
   "source": [
    "import pandas as pd\n",
    "import numpy as np\n",
    "df=pd.DataFrame(\n",
    "    {\n",
    "        'a':range(100),\n",
    "        'b':np.random.rand(100),\n",
    "        'c':[1,2,3,4]*25,\n",
    "        'd':['apple', 'banana', 'carrot']*33 + ['apple']\n",
    "    }\n",
    ")\n",
    "df.head()\n",
    "# fpath = 'testt.csv'\n",
    "# df = pd.DataFrame({'a': range(100), \n",
    "#                    'b':np.random.choice(['apple', 'banana', 'carrot'], 100)})\n",
    "# df.to_csv(fpath, index=None)\n",
    "\n",
    "# ### 隔行读取csv\n",
    "# import csv\n",
    "\n",
    "# with open(fpath, 'r') as f:\n",
    "#     reader = csv.reader(f)\n",
    "# #     reader.head()\n",
    "#     out = []\n",
    "#     for i, row in enumerate(reader):\n",
    "#         if i%20 ==0:\n",
    "#             out.append(row)\n",
    "# pd.DataFrame(out[1:], columns=out[0])\n",
    "# peak_locs"
   ]
  },
  {
   "cell_type": "code",
   "execution_count": null,
   "metadata": {},
   "outputs": [],
   "source": []
  },
  {
   "cell_type": "code",
   "execution_count": null,
   "metadata": {},
   "outputs": [],
   "source": []
  }
 ],
 "metadata": {
  "kernelspec": {
   "display_name": "Python 3",
   "language": "python",
   "name": "python3"
  },
  "language_info": {
   "codemirror_mode": {
    "name": "ipython",
    "version": 3
   },
   "file_extension": ".py",
   "mimetype": "text/x-python",
   "name": "python",
   "nbconvert_exporter": "python",
   "pygments_lexer": "ipython3",
   "version": "3.7.4"
  }
 },
 "nbformat": 4,
 "nbformat_minor": 2
}
